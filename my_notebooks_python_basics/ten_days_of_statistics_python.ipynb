{
 "cells": [
  {
   "cell_type": "markdown",
   "metadata": {},
   "source": [
    "## Mean, Median,Mode"
   ]
  },
  {
   "cell_type": "code",
   "execution_count": 1,
   "metadata": {},
   "outputs": [],
   "source": [
    "import statistics as stat\n",
    "from scipy import stats as s"
   ]
  },
  {
   "cell_type": "code",
   "execution_count": 3,
   "metadata": {},
   "outputs": [
    {
     "name": "stdout",
     "output_type": "stream",
     "text": [
      "5\n",
      "1 2 3 4 5\n",
      "mean =  3\n",
      "median =  3\n",
      "mode =  1\n"
     ]
    }
   ],
   "source": [
    "n = int(input())\n",
    "l = list(map(int,input().split()))\n",
    "\n",
    "print('mean = ',stat.mean(l))\n",
    "print('median = ',stat.median(l))\n",
    "print('mode = ',int(s.mode(l)[0]))"
   ]
  },
  {
   "cell_type": "markdown",
   "metadata": {},
   "source": [
    "## Weighted mean"
   ]
  },
  {
   "cell_type": "code",
   "execution_count": 4,
   "metadata": {},
   "outputs": [
    {
     "name": "stdout",
     "output_type": "stream",
     "text": [
      "5\n",
      "10 40 30 50 20\n",
      "1 2 3 4 5\n",
      "Weighted mean = 32.0\n"
     ]
    }
   ],
   "source": [
    "n = int(input())\n",
    "l1 = list(map(int,input().split()))\n",
    "l2 = list(map(int,input().split()))\n",
    "a=0\n",
    "for i in range(n):\n",
    "    a = a + l1[i]*l2[i]\n",
    "\n",
    "b = sum(l2)\n",
    "\n",
    "print('Weighted mean = {0:.1f}'.format(a/b))"
   ]
  },
  {
   "cell_type": "markdown",
   "metadata": {},
   "source": [
    "## Quartile"
   ]
  },
  {
   "cell_type": "code",
   "execution_count": 87,
   "metadata": {},
   "outputs": [
    {
     "name": "stdout",
     "output_type": "stream",
     "text": [
      "9\n",
      "3 7 8 5 12 14 21 13 18\n",
      "6.0\n",
      "12\n",
      "16.0\n"
     ]
    }
   ],
   "source": [
    "n = int(input())\n",
    "X = list(map(int,input().split()))\n",
    "X.sort()\n",
    "if len(X) % 2 == 0:\n",
    "    q2 = (X[(len(X)-1) // 2] + X[len(X)//2]) / 2\n",
    "    X1 = X[:len(X) //2]\n",
    "    X2 = X[len(X) //2 :]\n",
    "    q1 = (X1[(len(X1)-1) //2] + X1[len(X1) // 2]) / 2\n",
    "    q3 = (X2[(len(X2)-1) //2] + X2[len(X2) // 2]) / 2\n",
    "else:\n",
    "    q2 = X[len(X)//2]\n",
    "    X1 = X[: len(X) // 2]\n",
    "    X2 = X[(len(X)+1) // 2 :]\n",
    "    q1 = (X1[(len(X1)-1) //2] + X1[len(X1) // 2]) / 2\n",
    "    q3 = (X2[(len(X2)-1) //2] + X2[len(X2) // 2]) / 2\n",
    "\n",
    "print(q1)\n",
    "print(q2)\n",
    "print(q3)"
   ]
  },
  {
   "cell_type": "markdown",
   "metadata": {},
   "source": [
    "## Interquartile Range"
   ]
  },
  {
   "cell_type": "code",
   "execution_count": 97,
   "metadata": {},
   "outputs": [
    {
     "name": "stdout",
     "output_type": "stream",
     "text": [
      "6\n",
      "6 12 8 10 20 16\n",
      "5 4 3 2 1 5\n",
      "7.0\n",
      "11.0\n",
      "16.0\n",
      "IQR =  9.0\n"
     ]
    }
   ],
   "source": [
    "n = int(input())\n",
    "E = list(map(int,input().split()))\n",
    "F = list(map(int,input().split()))\n",
    "X = []\n",
    "for i in range(len(F)):\n",
    "    for j in range(F[i]):\n",
    "        X.append(E[i])\n",
    "X.sort()\n",
    "\n",
    "if len(X) % 2 == 0:\n",
    "    q2 = (X[(len(X)-1) // 2] + X[len(X)//2]) / 2\n",
    "    X1 = X[:len(X) //2]\n",
    "    X2 = X[len(X) //2 :]\n",
    "    q1 = (X1[(len(X1)-1) //2] + X1[len(X1) // 2]) / 2\n",
    "    q3 = (X2[(len(X2)-1) //2] + X2[len(X2) // 2]) / 2\n",
    "else:\n",
    "    q2 = X[len(X)//2]\n",
    "    X1 = X[: len(X) // 2]\n",
    "    X2 = X[(len(X)+1) // 2 :]\n",
    "    q1 = (X1[(len(X1)-1) //2] + X1[len(X1) // 2]) / 2\n",
    "    q3 = (X2[(len(X2)-1) //2] + X2[len(X2) // 2]) / 2\n",
    "\n",
    "print(q1)\n",
    "print(q2)\n",
    "print(q3)\n",
    "print('IQR = ',q3-q1)"
   ]
  },
  {
   "cell_type": "markdown",
   "metadata": {},
   "source": [
    "## Standard Deviation"
   ]
  },
  {
   "cell_type": "code",
   "execution_count": 99,
   "metadata": {},
   "outputs": [
    {
     "name": "stdout",
     "output_type": "stream",
     "text": [
      "5\n",
      "10 20 30 40 50\n",
      "std = 14.1\n"
     ]
    }
   ],
   "source": [
    "import statistics as stat\n",
    "import math\n",
    "\n",
    "n = int(input())\n",
    "X = list(map(int,input().split()))\n",
    "\n",
    "m = stat.mean(X)\n",
    "\n",
    "sq_dis = 0\n",
    "for i in range(len(X)):\n",
    "    sq_dis = sq_dis + ((X[i]-m)**2)\n",
    "\n",
    "std_dev = math.sqrt(sq_dis/len(X))\n",
    "\n",
    "print('std = {0:.1f}'.format(std_dev))"
   ]
  },
  {
   "cell_type": "markdown",
   "metadata": {},
   "source": [
    "# Binomial Distribution"
   ]
  },
  {
   "cell_type": "code",
   "execution_count": 4,
   "metadata": {},
   "outputs": [
    {
     "name": "stdout",
     "output_type": "stream",
     "text": [
      "12 10\n",
      "[0.27850097600940216, 0.3797740581946393, 0.23304317207398317, 0.0847429716632666, 0.02022275460146135, 0.003309178025693675, 0.00037604295746519035, 2.9302048633651192e-05, 1.4984002142207995e-06, 4.540606709759998e-08, 6.191736422399997e-10]\n",
      "0.891\n",
      "0.342\n"
     ]
    }
   ],
   "source": [
    "def fact(n):\n",
    "    return 1 if n == 0 else n*fact(n-1)\n",
    "\n",
    "def comb(n,x):\n",
    "    return fact(n) / ( fact(x) * fact(n-x) )\n",
    "\n",
    "\n",
    "def binom(x,n,p):\n",
    "    return comb(n,x) * (p**x) * ((1-p)**(n-x))\n",
    "\n",
    "\n",
    "\n",
    "ip = list(map(float,input().split(' ')))\n",
    "l = []\n",
    "\n",
    "for i in range(int(ip[1])+1):\n",
    "    l.append(binom(i,ip[1],ip[0]/100))\n",
    "\n",
    "\n",
    "print(l)\n",
    "print(round(sum(l[:3]),3))\n",
    "print(round(sum(l[2:]),3))"
   ]
  },
  {
   "cell_type": "code",
   "execution_count": 3,
   "metadata": {},
   "outputs": [
    {
     "name": "stdout",
     "output_type": "stream",
     "text": [
      "12 10\n",
      "0.891\n",
      "0.342\n"
     ]
    }
   ],
   "source": [
    "def fact(n):\n",
    "    return 1 if n == 0 else n*fact(n-1)\n",
    "\n",
    "def comb(n, x):\n",
    "    return fact(n) / (fact(x) * fact(n-x))\n",
    "\n",
    "def b(x, n, p):\n",
    "    return comb(n, x) * p**x * (1-p)**(n-x)\n",
    "\n",
    "p, n = list(map(int, input().split(\" \")))\n",
    "print(round(sum([b(i, n, p/100) for i in range(3)]), 3))\n",
    "print(round(sum([b(i, n, p/100) for i in range(2, n+1)]), 3))"
   ]
  },
  {
   "cell_type": "markdown",
   "metadata": {},
   "source": [
    "# Geometric Distribution\n",
    "\n",
    "\n",
    "**g(n,p) = q^(n-1) * p**\n",
    "\n",
    "where q=1-p"
   ]
  },
  {
   "cell_type": "code",
   "execution_count": 7,
   "metadata": {},
   "outputs": [
    {
     "name": "stdout",
     "output_type": "stream",
     "text": [
      "7 10\n",
      "5\n",
      "0.006\n"
     ]
    }
   ],
   "source": [
    "num,den = list(map(int, input().split(' ')))\n",
    "n = int(input())\n",
    "\n",
    "p = num/den\n",
    "q = 1 - p\n",
    "print (round(p * (q**(n-1)),3))"
   ]
  },
  {
   "cell_type": "markdown",
   "metadata": {},
   "source": [
    "# Poissons Distribution"
   ]
  },
  {
   "cell_type": "code",
   "execution_count": 13,
   "metadata": {},
   "outputs": [],
   "source": [
    "from math import factorial, exp, sqrt, pi"
   ]
  },
  {
   "cell_type": "code",
   "execution_count": 8,
   "metadata": {},
   "outputs": [
    {
     "name": "stdout",
     "output_type": "stream",
     "text": [
      "2.5\n",
      "5\n",
      "0.067\n"
     ]
    }
   ],
   "source": [
    "m = float(input())\n",
    "x = int(input())\n",
    "\n",
    "def poison(m,x):\n",
    "    return ((m**x) * exp(-m))/factorial(x)\n",
    "\n",
    "print(round(poison(m,x),3))\n",
    "    "
   ]
  },
  {
   "cell_type": "code",
   "execution_count": 6,
   "metadata": {},
   "outputs": [
    {
     "data": {
      "text/plain": [
       "0.07326255555493671"
      ]
     },
     "execution_count": 6,
     "metadata": {},
     "output_type": "execute_result"
    }
   ],
   "source": [
    "(exp(-4.0)*(4**1))/factorial(1)"
   ]
  },
  {
   "cell_type": "code",
   "execution_count": 9,
   "metadata": {},
   "outputs": [
    {
     "name": "stdout",
     "output_type": "stream",
     "text": [
      "0.88 1.55\n",
      "226.176\n",
      "286.1\n"
     ]
    }
   ],
   "source": [
    "mx,my = [float(num) for num in input().split(' ')]\n",
    "\n",
    "cx = 160 + 40 * (mx+(mx**2))\n",
    "cy = 128 + 40 * (my+(my**2))\n",
    "\n",
    "print(round(cx,3))\n",
    "print(round(cy,3))"
   ]
  },
  {
   "cell_type": "markdown",
   "metadata": {},
   "source": [
    "# Normal Distribution"
   ]
  },
  {
   "cell_type": "code",
   "execution_count": 15,
   "metadata": {},
   "outputs": [],
   "source": [
    "const = 1/sqrt(2*pi)"
   ]
  },
  {
   "cell_type": "code",
   "execution_count": 16,
   "metadata": {},
   "outputs": [
    {
     "data": {
      "text/plain": [
       "0.3989422804014327"
      ]
     },
     "execution_count": 16,
     "metadata": {},
     "output_type": "execute_result"
    }
   ],
   "source": [
    "const"
   ]
  },
  {
   "cell_type": "code",
   "execution_count": null,
   "metadata": {},
   "outputs": [],
   "source": [
    "exp(-((x-m)**2) / 2*(sd**2))"
   ]
  },
  {
   "cell_type": "code",
   "execution_count": null,
   "metadata": {},
   "outputs": [],
   "source": [
    "(1/sd)*const*exp(-((x-m)**2) / 2*(sd**2))"
   ]
  },
  {
   "cell_type": "code",
   "execution_count": null,
   "metadata": {},
   "outputs": [],
   "source": [
    "m,sd = [float(num) for num in input().split(' ')]\n",
    "xa = float(input())\n",
    "xb1,xb2 = [float(num) for num in input().split(' ')]\n",
    "\n",
    "const = 1/sqrt(2*pi)\n",
    "\n",
    "def norm(x,m,sd):\n",
    "    return (1/sd)*const*exp(-((x-m)**2) / 2*(sd**2))\n",
    "\n",
    "print(round(norm(xa,m,sd),3))\n",
    "print(round((norm(xb2,m,sd) - norm(xb1,m,sd)),3))"
   ]
  },
  {
   "cell_type": "code",
   "execution_count": null,
   "metadata": {},
   "outputs": [],
   "source": [
    "import math\n",
    "\n",
    "mean, std = [float(num) for num in input().split(' ')]\n",
    "xa = float(input())\n",
    "xb1,xb2 = [float(num) for num in input().split(' ')]\n",
    "\n",
    "mean, std = 20, 2\n",
    "cdf = lambda x: 0.5 * (1 + math.erf((x - mean) / (std * (2 ** 0.5))))\n",
    "\n",
    "# Less than 19.5\n",
    "print('{:.3f}'.format(cdf(xa)))\n",
    "# Between 20 and 22\n",
    "print('{:.3f}'.format(cdf(xb2) - cdf(xb1)))"
   ]
  },
  {
   "cell_type": "code",
   "execution_count": 1,
   "metadata": {},
   "outputs": [
    {
     "name": "stdout",
     "output_type": "stream",
     "text": [
      "15.87\n",
      "84.13\n",
      "15.87\n"
     ]
    }
   ],
   "source": [
    "import math\n",
    "mean, std = 70, 10\n",
    "cdf = lambda x: 0.5 * (1 + math.erf((x - mean) / (std * (2 ** 0.5))))\n",
    "\n",
    "\n",
    "print(round((1-cdf(80))*100,2))\n",
    "print(round((1-cdf(60))*100,2))\n",
    "print(round((cdf(60))*100,2))"
   ]
  },
  {
   "cell_type": "markdown",
   "metadata": {},
   "source": [
    "## Central limit theorem"
   ]
  },
  {
   "cell_type": "code",
   "execution_count": 2,
   "metadata": {},
   "outputs": [
    {
     "name": "stdout",
     "output_type": "stream",
     "text": [
      "9800\n",
      "49\n",
      "205\n",
      "15\n",
      "0.0098\n"
     ]
    }
   ],
   "source": [
    "import math\n",
    "\n",
    "x = int(input())\n",
    "n = int(input())\n",
    "mu = int(input())\n",
    "sigma = int(input())\n",
    "\n",
    "mu_sum = n * mu \n",
    "sigma_sum = math.sqrt(n) * sigma\n",
    "\n",
    "def cdf(x, mu, sigma):\n",
    "    Z = (x - mu)/sigma\n",
    "    return 0.5*(1 + math.erf(Z/(math.sqrt(2))))\n",
    "\n",
    "print(round(cdf(x, mu_sum, sigma_sum), 4))"
   ]
  },
  {
   "cell_type": "markdown",
   "metadata": {},
   "source": [
    "The number of tickets purchased by each student for the University X vs. University Y football game follows a distribution that has a mean of mu and a standard deviation of sigma.\n",
    "\n",
    "A few hours before the game starts,100(n)  eager students line up to purchase last-minute tickets. If there are only  250(x) tickets left, what is the probability that all 100(n) students will be able to purchase tickets?"
   ]
  },
  {
   "cell_type": "code",
   "execution_count": 1,
   "metadata": {},
   "outputs": [
    {
     "name": "stdout",
     "output_type": "stream",
     "text": [
      "250\n",
      "100\n",
      "2.4\n",
      "2\n",
      "0.6915\n"
     ]
    }
   ],
   "source": [
    "import math\n",
    "\n",
    "x = int(input())\n",
    "n = int(input())\n",
    "mu = float(input())\n",
    "sigma = float(input())\n",
    "\n",
    "mu_sum = n * mu \n",
    "sigma_sum = math.sqrt(n) * sigma\n",
    "\n",
    "def cdf(x, mu, sigma):\n",
    "    Z = (x - mu)/sigma\n",
    "    return 0.5*(1 + math.erf(Z/(math.sqrt(2))))\n",
    "\n",
    "print(round(cdf(x, mu_sum, sigma_sum), 4))"
   ]
  },
  {
   "cell_type": "code",
   "execution_count": 2,
   "metadata": {},
   "outputs": [
    {
     "name": "stdout",
     "output_type": "stream",
     "text": [
      "100\n",
      "500\n",
      "80\n",
      "0.95\n",
      "1.96\n",
      "484.32\n",
      "515.68\n"
     ]
    }
   ],
   "source": [
    "from math import sqrt\n",
    "\n",
    "s = int(input())\n",
    "mean = float(input())\n",
    "std = float(input())\n",
    "interval = float(input())\n",
    "z = float(input())\n",
    "print(round(mean - (std / sqrt(s)) * z, 2))\n",
    "print(round(mean + (std / sqrt(s)) * z, 2))"
   ]
  },
  {
   "cell_type": "markdown",
   "metadata": {},
   "source": [
    "z= (x-mu)/sigma"
   ]
  },
  {
   "cell_type": "markdown",
   "metadata": {},
   "source": [
    "# Pearson Correlation Coefficient I"
   ]
  },
  {
   "cell_type": "code",
   "execution_count": 15,
   "metadata": {},
   "outputs": [],
   "source": [
    "import numpy as np"
   ]
  },
  {
   "cell_type": "code",
   "execution_count": 1,
   "metadata": {},
   "outputs": [
    {
     "name": "stdout",
     "output_type": "stream",
     "text": [
      "10\n",
      "10 9.8 8 7.8 7.7 7 6 5 4 2\n",
      "200 44 32 24 22 17 15 12 8 4\n"
     ]
    }
   ],
   "source": [
    "n = int(input())\n",
    "x = list(map(float,input().split(' ')))\n",
    "y = list(map(float,input().split(' ')))"
   ]
  },
  {
   "cell_type": "code",
   "execution_count": 39,
   "metadata": {},
   "outputs": [
    {
     "name": "stdout",
     "output_type": "stream",
     "text": [
      "10\n",
      "10 9.8 8 7.8 7.7 7 6 5 4 2\n",
      "200 44 32 24 22 17 15 12 8 4\n",
      "0.043343125931279765\n"
     ]
    }
   ],
   "source": [
    "import numpy as np\n",
    "\n",
    "n = int(input())\n",
    "x = list(map(float,input().split(' ')))\n",
    "y = list(map(float,input().split(' ')))\n",
    "\n",
    "mu_x=np.array(x).mean()\n",
    "sig_x =np.array(x).std()\n",
    "mu_y = np.array(y).mean()\n",
    "sig_y=np.array(y).std()\n",
    "\n",
    "cov = sum([(x[i] - mu_x) * (x[i] -mu_y) for i in range(n)])\n",
    "\n",
    "corr = cov / (n * sig_x * sig_y)\n",
    "print(corr)"
   ]
  },
  {
   "cell_type": "code",
   "execution_count": 40,
   "metadata": {},
   "outputs": [
    {
     "name": "stdout",
     "output_type": "stream",
     "text": [
      "0.043\n"
     ]
    }
   ],
   "source": [
    "print(round(corr,3))"
   ]
  },
  {
   "cell_type": "markdown",
   "metadata": {},
   "source": [
    "**The regression line of y on x is 3x+4y+8 =0 , and the regression line of x on y  is 4x+3y+7=0. What is the value of the Pearson correlation coefficient?**\n",
    "\n",
    "\n",
    "Step 1: Rewrite the 2 lines in proper form\n",
    "\n",
    "Rewrite the 2 lines as:\n",
    "\n",
    "y = -2 + (-3/4) * x\n",
    "x = -7/4 + (-3/4) * y\n",
    "\n",
    "so b1 = -3/4 and b2 = -3/4\n",
    "\n",
    "Step 2: Apply Pearson's Coefficient formula\n",
    "\n",
    "Let p = pearson coefficient\n",
    "Let x_std = standard deviation of x\n",
    "Let y_std = standard deviation of y\n",
    "\n",
    "From this tutorial we have:\n",
    "\n",
    "p = b1 (x_std / y_std)\n",
    "p = b2 (y_std / x_std)\n",
    "\n",
    "Multiplying these 2 equations together we get\n",
    "p^2 = b1 * b2\n",
    "p^2 = (-3/4) * (-3/4)\n",
    "p^2 = 9/16\n",
    "p = 3/4 or -3/4 (depending on correlation of x and y)\n",
    "\n",
    "Step 3: Find out if p is postive or negative\n",
    "\n",
    "Notice that both of the original line equations have negative slopes, so x and y are negatively correlated by definition. **So, p = -3/4**"
   ]
  },
  {
   "cell_type": "markdown",
   "metadata": {},
   "source": [
    "# Spearman's Rank Correlation Coefficient"
   ]
  },
  {
   "cell_type": "code",
   "execution_count": 45,
   "metadata": {},
   "outputs": [
    {
     "name": "stdout",
     "output_type": "stream",
     "text": [
      "10\n",
      "10 9.8 8 7.8 7.7 7 6 5 4 2\n",
      "200 44 32 24 22 17 15 12 8 4\n",
      "1.000\n"
     ]
    }
   ],
   "source": [
    "def get_rank(X, n):\n",
    "    x_rank = dict((x, i+1) for i, x in enumerate(sorted(set(X))))\n",
    "    return [x_rank[x] for x in X]\n",
    "    \n",
    "n = int(input())\n",
    "X = list(map(float, input().split()))\n",
    "Y = list(map(float, input().split()))\n",
    "\n",
    "rx = get_rank(X, n)\n",
    "ry = get_rank(Y, n)\n",
    "\n",
    "d = [(rx[i] -ry[i])**2 for i in range(n)]\n",
    "rxy = 1 - (6 * sum(d)) / (n * (n*n - 1))\n",
    "\n",
    "print('%.3f' % rxy)"
   ]
  },
  {
   "cell_type": "markdown",
   "metadata": {},
   "source": [
    "# Linear Regression in Python"
   ]
  },
  {
   "cell_type": "code",
   "execution_count": 49,
   "metadata": {},
   "outputs": [
    {
     "name": "stdout",
     "output_type": "stream",
     "text": [
      "a=  26.780821917808225\n",
      "b=  0.6438356164383561\n",
      "78.288\n"
     ]
    }
   ],
   "source": [
    "from sklearn import linear_model\n",
    "import numpy as np\n",
    "xl = [95,85,80,70,60]\n",
    "x = np.asarray(xl).reshape(-1, 1)\n",
    "y = [85,95,70,65,70]\n",
    "lm = linear_model.LinearRegression()\n",
    "lm.fit(x, y)\n",
    "print('a= ',lm.intercept_)\n",
    "print('b= ',lm.coef_[0])\n",
    "\n",
    "# to make prediction\n",
    "x_test = 80\n",
    "y_test = lm.intercept_ + lm.coef_[0] * x_test\n",
    "print(\"%.3f\" %y_test)   # 78.288"
   ]
  },
  {
   "cell_type": "code",
   "execution_count": null,
   "metadata": {},
   "outputs": [],
   "source": [
    "# x = [95,85,80,70,60]\n",
    "# y = [85,95,70,65,70]\n",
    "x, y = [], []\n",
    "for _ in range(5):\n",
    "    i = input().split()\n",
    "    x.append(int(i[0]))\n",
    "    y.append(int(i[1]))\n",
    "n = len(x)\n",
    "x_sum = sum(x)\n",
    "x_sum_sqr = x_sum**2\n",
    "x_sqr_sum = sum([x_i**2 for x_i in x])\n",
    "y_sum = sum(y)\n",
    "sum_prod_xy = 0\n",
    "for x_i,y_i in zip(x,y):\n",
    "    sum_prod_xy += (x_i*y_i)\n",
    "b = (n*sum_prod_xy - x_sum*y_sum) / (n*x_sqr_sum - x_sum_sqr)\n",
    "y_mean = y_sum/n\n",
    "x_mean = x_sum/n\n",
    "a = y_mean - b*x_mean\n",
    "\n",
    "# to make prediction\n",
    "x_test = 80\n",
    "y_test = a + b * x_test\n",
    "print(\"%.3f\" %y_test)   # 78.288"
   ]
  },
  {
   "cell_type": "markdown",
   "metadata": {},
   "source": [
    "# Multiple Regression"
   ]
  },
  {
   "cell_type": "code",
   "execution_count": 2,
   "metadata": {},
   "outputs": [
    {
     "name": "stdout",
     "output_type": "stream",
     "text": [
      "51.953488372092984 6.65116279069768 -11.162790697674419\n"
     ]
    }
   ],
   "source": [
    "from sklearn import linear_model\n",
    "x = [[5, 7], [6, 6], [7, 4], [8, 5], [9, 6]]\n",
    "y = [10, 20, 60, 40, 50]\n",
    "lm = linear_model.LinearRegression()\n",
    "lm.fit(x, y)\n",
    "a = lm.intercept_\n",
    "b = lm.coef_\n",
    "print(a, b[0], b[1])"
   ]
  },
  {
   "cell_type": "code",
   "execution_count": 3,
   "metadata": {},
   "outputs": [
    {
     "name": "stdout",
     "output_type": "stream",
     "text": [
      "2 7\n",
      "0.18 0.89 109.85\n",
      "1.0 0.26 155.72\n",
      "0.92 0.11 137.66\n",
      "0.07 0.37 76.17\n",
      "0.85 0.16 139.75\n",
      "0.99 0.41 162.6\n",
      "0.87 0.47 151.77\n",
      "4\n",
      "0.49 0.18\n",
      "0.57 0.83\n",
      "0.56 0.64\n",
      "0.76 0.18\n",
      "105.21\n",
      "142.67\n",
      "132.94\n",
      "129.7\n"
     ]
    }
   ],
   "source": [
    "import numpy as np\n",
    "m,n = [int(i) for i in input().strip().split(' ')]\n",
    "X = []\n",
    "Y = []\n",
    "for i in range(n):\n",
    "    data = input().strip().split(' ')\n",
    "    X.append(data[:m])\n",
    "    Y.append(data[m:])\n",
    "q = int(input().strip())\n",
    "X_new = []\n",
    "for x in range(q):\n",
    "    X_new.append(input().strip().split(' '))\n",
    "X = np.array(X,float)\n",
    "Y = np.array(Y,float)\n",
    "X_new = np.array(X_new,float)\n",
    "\n",
    "#center\n",
    "X_R = X-np.mean(X,axis=0)\n",
    "Y_R = Y-np.mean(Y)\n",
    "\n",
    "#calculate beta\n",
    "beta = np.dot(np.linalg.inv(np.dot(X_R.T,X_R)),np.dot(X_R.T,Y_R))\n",
    "\n",
    "#predict\n",
    "X_new_R = X_new-np.mean(X,axis=0)\n",
    "Y_new_R = np.dot(X_new_R,beta)\n",
    "Y_new = Y_new_R + np.mean(Y)\n",
    "\n",
    "#print\n",
    "for i in Y_new:\n",
    "    print(round(float(i),2))"
   ]
  },
  {
   "cell_type": "code",
   "execution_count": null,
   "metadata": {},
   "outputs": [],
   "source": []
  }
 ],
 "metadata": {
  "kernelspec": {
   "display_name": "Python 3",
   "language": "python",
   "name": "python3"
  },
  "language_info": {
   "codemirror_mode": {
    "name": "ipython",
    "version": 3
   },
   "file_extension": ".py",
   "mimetype": "text/x-python",
   "name": "python",
   "nbconvert_exporter": "python",
   "pygments_lexer": "ipython3",
   "version": "3.7.6"
  }
 },
 "nbformat": 4,
 "nbformat_minor": 4
}
