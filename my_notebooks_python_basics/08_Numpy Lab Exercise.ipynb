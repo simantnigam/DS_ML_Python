{
 "cells": [
  {
   "cell_type": "markdown",
   "metadata": {
    "colab_type": "text",
    "id": "Lp5ZVokLWfuw"
   },
   "source": [
    "# NumPy Lab Exercises \n",
    "\n",
    "Solve the following questions"
   ]
  },
  {
   "cell_type": "markdown",
   "metadata": {
    "colab_type": "text",
    "id": "c62MZKqnWfux"
   },
   "source": [
    "#### Import NumPy package as np"
   ]
  },
  {
   "cell_type": "code",
   "execution_count": 2,
   "metadata": {
    "colab": {},
    "colab_type": "code",
    "id": "SpTzkFLxWfuy"
   },
   "outputs": [],
   "source": [
    "import numpy as np"
   ]
  },
  {
   "cell_type": "markdown",
   "metadata": {
    "colab_type": "text",
    "id": "f2lX881tWfu2"
   },
   "source": [
    "#### Create an empty array of 20 0's and replace the 4th object with the number 5"
   ]
  },
  {
   "cell_type": "code",
   "execution_count": 3,
   "metadata": {
    "colab": {},
    "colab_type": "code",
    "id": "lVHPrQctWfu2",
    "outputId": "78b1c297-693c-40d3-f898-ba72d32d2a2b"
   },
   "outputs": [
    {
     "data": {
      "text/plain": [
       "array([0., 0., 0., 5., 0., 0., 0., 0., 0., 0., 0., 0., 0., 0., 0., 0., 0.,\n",
       "       0., 0., 0.])"
      ]
     },
     "execution_count": 3,
     "metadata": {},
     "output_type": "execute_result"
    }
   ],
   "source": [
    "arr = np.zeros(20)\n",
    "arr[3] = 5\n",
    "arr"
   ]
  },
  {
   "cell_type": "markdown",
   "metadata": {
    "colab_type": "text",
    "id": "dThXDXNiWfu7"
   },
   "source": [
    "#### Create an array of 20 1's and store it as a variable named array_master. Copy the same array into another variable named array_copy"
   ]
  },
  {
   "cell_type": "code",
   "execution_count": 17,
   "metadata": {
    "colab": {},
    "colab_type": "code",
    "id": "KvaMkeweWfu7",
    "outputId": "34a8b089-f6ac-4b2e-cc04-245b6350a270"
   },
   "outputs": [
    {
     "data": {
      "text/plain": [
       "array([1., 1., 1., 1., 1., 1., 1., 1., 1., 1., 1., 1., 1., 1., 1., 1., 1.,\n",
       "       1., 1., 1.])"
      ]
     },
     "execution_count": 17,
     "metadata": {},
     "output_type": "execute_result"
    }
   ],
   "source": [
    "array_master = np.ones(20)\n",
    "array_copy = array_master.copy()\n",
    "array_copy"
   ]
  },
  {
   "cell_type": "markdown",
   "metadata": {
    "colab_type": "text",
    "id": "bF-FlufIWfu-"
   },
   "source": [
    "#### Create an array containing 30 1's and broadcast all the one's to the value 100"
   ]
  },
  {
   "cell_type": "code",
   "execution_count": 65,
   "metadata": {
    "colab": {},
    "colab_type": "code",
    "id": "qaVjTJxFWfu-",
    "outputId": "a99168c4-5546-4789-85af-f79db3f08b72"
   },
   "outputs": [
    {
     "data": {
      "text/plain": [
       "array([100., 100., 100., 100., 100., 100., 100., 100., 100., 100., 100.,\n",
       "       100., 100., 100., 100., 100., 100., 100., 100., 100., 100., 100.,\n",
       "       100., 100., 100., 100., 100., 100., 100., 100.])"
      ]
     },
     "execution_count": 65,
     "metadata": {},
     "output_type": "execute_result"
    }
   ],
   "source": [
    "ar = np.ones(30)\n",
    "ar[:] = 100\n",
    "ar"
   ]
  },
  {
   "cell_type": "markdown",
   "metadata": {
    "colab_type": "text",
    "id": "HKKqb87hWfvB"
   },
   "source": [
    "#### Create an array of integers starting from 21 until 31 and name it as array1\n",
    "\n",
    "#### Create an array of integers starting from 11 until 21 and name it array2\n",
    "\n",
    "#### Calculate the difference between array1 and array2"
   ]
  },
  {
   "cell_type": "code",
   "execution_count": 10,
   "metadata": {
    "colab": {},
    "colab_type": "code",
    "id": "352yfktiWfvC",
    "outputId": "fc46fc6a-ed7f-4516-9943-18396a2fddb6"
   },
   "outputs": [
    {
     "data": {
      "text/plain": [
       "array([10, 10, 10, 10, 10, 10, 10, 10, 10, 10, 10])"
      ]
     },
     "execution_count": 10,
     "metadata": {},
     "output_type": "execute_result"
    }
   ],
   "source": [
    "array1 = np.arange(21,32)\n",
    "array2 = np.arange(11,22)\n",
    "array1 - array2"
   ]
  },
  {
   "cell_type": "markdown",
   "metadata": {
    "colab_type": "text",
    "id": "4R-KERipWfvE"
   },
   "source": [
    "#### Create an array of all even integers from 2 to 10 and name it a1\n",
    "\n",
    "#### Create an array of all even integers from 22 to 30 and name it a2\n",
    "\n",
    "####  a) Use the 2 arrays as rows and create a matrix [ Hint - Use stack function from numpy ]"
   ]
  },
  {
   "cell_type": "code",
   "execution_count": 3,
   "metadata": {
    "colab": {},
    "colab_type": "code",
    "id": "0OjKCkmMWfvF",
    "outputId": "cc617196-d7cd-4925-a07b-7d57f89ad428"
   },
   "outputs": [
    {
     "data": {
      "text/plain": [
       "array([[ 2,  4,  6,  8, 10],\n",
       "       [22, 24, 26, 28, 30]])"
      ]
     },
     "execution_count": 3,
     "metadata": {},
     "output_type": "execute_result"
    }
   ],
   "source": [
    "a1 = np.arange(2,11,2)\n",
    "a2 = np.arange(22,31,2)\n",
    "a3 = np.stack((a1,a2))\n",
    "a3"
   ]
  },
  {
   "cell_type": "markdown",
   "metadata": {
    "colab_type": "text",
    "id": "VLJjqpKqWfvH"
   },
   "source": [
    "####  b) Use the 2 arrays as columns and create a matrix [ Hint - Use column_stack function from numpy ]"
   ]
  },
  {
   "cell_type": "code",
   "execution_count": 69,
   "metadata": {
    "colab": {},
    "colab_type": "code",
    "id": "l4VfVRhnWfvJ",
    "outputId": "02048f65-0989-487c-f26d-3c2d754dfc4d"
   },
   "outputs": [
    {
     "data": {
      "text/plain": [
       "array([[ 2, 22],\n",
       "       [ 4, 24],\n",
       "       [ 6, 26],\n",
       "       [ 8, 28],\n",
       "       [10, 30]])"
      ]
     },
     "execution_count": 69,
     "metadata": {},
     "output_type": "execute_result"
    }
   ],
   "source": [
    "a4 = np.stack((a1,a2),axis=1)\n",
    "a4"
   ]
  },
  {
   "cell_type": "code",
   "execution_count": 71,
   "metadata": {},
   "outputs": [
    {
     "data": {
      "text/plain": [
       "array([[ 2, 22],\n",
       "       [ 4, 24],\n",
       "       [ 6, 26],\n",
       "       [ 8, 28],\n",
       "       [10, 30]])"
      ]
     },
     "execution_count": 71,
     "metadata": {},
     "output_type": "execute_result"
    }
   ],
   "source": [
    "np.column_stack((a1,a2))"
   ]
  },
  {
   "cell_type": "markdown",
   "metadata": {
    "colab_type": "text",
    "id": "niKmN4TiWfvM"
   },
   "source": [
    "#### Create a 5x6 matrix with values ranging from 0 to 29 and retrieve the value intersecting at 2nd row and 3rd column"
   ]
  },
  {
   "cell_type": "code",
   "execution_count": 66,
   "metadata": {
    "colab": {},
    "colab_type": "code",
    "id": "PVnwBW0IWfvM",
    "outputId": "c33f3efd-c28e-4f3d-d105-df99608df633"
   },
   "outputs": [
    {
     "data": {
      "text/plain": [
       "8"
      ]
     },
     "execution_count": 66,
     "metadata": {},
     "output_type": "execute_result"
    }
   ],
   "source": [
    "arr_2d = np.arange(30).reshape(5,6)\n",
    "arr_2d[1,2]"
   ]
  },
  {
   "cell_type": "markdown",
   "metadata": {
    "colab_type": "text",
    "id": "U5WRwbSCWfvP"
   },
   "source": [
    "#### Create an identity matrix of shape 10x10 and replace the 0's with the value 21"
   ]
  },
  {
   "cell_type": "code",
   "execution_count": 30,
   "metadata": {
    "colab": {},
    "colab_type": "code",
    "id": "OnUDHAYYWfvP",
    "outputId": "0af647d7-05f2-4582-b721-01bb46d2a0e3"
   },
   "outputs": [
    {
     "data": {
      "text/plain": [
       "array([[ 1., 21., 21., 21., 21., 21., 21., 21., 21., 21.],\n",
       "       [21.,  1., 21., 21., 21., 21., 21., 21., 21., 21.],\n",
       "       [21., 21.,  1., 21., 21., 21., 21., 21., 21., 21.],\n",
       "       [21., 21., 21.,  1., 21., 21., 21., 21., 21., 21.],\n",
       "       [21., 21., 21., 21.,  1., 21., 21., 21., 21., 21.],\n",
       "       [21., 21., 21., 21., 21.,  1., 21., 21., 21., 21.],\n",
       "       [21., 21., 21., 21., 21., 21.,  1., 21., 21., 21.],\n",
       "       [21., 21., 21., 21., 21., 21., 21.,  1., 21., 21.],\n",
       "       [21., 21., 21., 21., 21., 21., 21., 21.,  1., 21.],\n",
       "       [21., 21., 21., 21., 21., 21., 21., 21., 21.,  1.]])"
      ]
     },
     "execution_count": 30,
     "metadata": {},
     "output_type": "execute_result"
    }
   ],
   "source": [
    "eye = np.eye(10)\n",
    "eye[eye == 0] = 21\n",
    "eye"
   ]
  },
  {
   "cell_type": "markdown",
   "metadata": {
    "colab_type": "text",
    "id": "fRsaQkJ7WfvS"
   },
   "source": [
    "#### Use NumPy to generate a random set of 10 numbers between 0 and 1\n",
    "\n",
    "#### Display a boolean array output where all values > 0.2 are True, rest are marked as False"
   ]
  },
  {
   "cell_type": "code",
   "execution_count": 38,
   "metadata": {
    "colab": {},
    "colab_type": "code",
    "id": "JZDFFk9YWfvS",
    "outputId": "35147e2d-8ab4-4dbc-9ca6-0d8e3a8f6848"
   },
   "outputs": [
    {
     "data": {
      "text/plain": [
       "array([ True,  True, False,  True,  True,  True,  True,  True,  True,\n",
       "        True])"
      ]
     },
     "execution_count": 38,
     "metadata": {},
     "output_type": "execute_result"
    }
   ],
   "source": [
    "arr = np.random.rand(10)\n",
    "arr > 0.2"
   ]
  },
  {
   "cell_type": "markdown",
   "metadata": {
    "colab_type": "text",
    "id": "1Z7l0TYxWfvV"
   },
   "source": [
    "#### Use NumPy to generate an array matrix of 5x2 random numbers sampled from a standard normal distribution"
   ]
  },
  {
   "cell_type": "code",
   "execution_count": 67,
   "metadata": {
    "colab": {},
    "colab_type": "code",
    "id": "FtVgVTJdWfvV",
    "outputId": "321bada4-4f60-4431-c5be-8bcf1e93b206"
   },
   "outputs": [
    {
     "data": {
      "text/plain": [
       "array([[-0.08966251,  1.62873799],\n",
       "       [ 0.73032805, -1.06710335],\n",
       "       [ 0.24843414,  0.20473954],\n",
       "       [-0.3333335 ,  0.06524421],\n",
       "       [-0.77926287,  0.73586126]])"
      ]
     },
     "execution_count": 67,
     "metadata": {},
     "output_type": "execute_result"
    }
   ],
   "source": [
    "arr_mat = np.random.randn(10).reshape(5,2)\n",
    "arr_mat"
   ]
  },
  {
   "cell_type": "markdown",
   "metadata": {
    "colab_type": "text",
    "id": "qTzYA4pPWfvY"
   },
   "source": [
    "#### Create an array of 30 linearly spaced points between 0 and 100:"
   ]
  },
  {
   "cell_type": "code",
   "execution_count": 41,
   "metadata": {
    "colab": {},
    "colab_type": "code",
    "id": "6nTHKqIXWfvZ",
    "outputId": "1b3e9199-ed3a-46c0-8ecd-c4cec9858eb1"
   },
   "outputs": [
    {
     "data": {
      "text/plain": [
       "array([  0.        ,   3.44827586,   6.89655172,  10.34482759,\n",
       "        13.79310345,  17.24137931,  20.68965517,  24.13793103,\n",
       "        27.5862069 ,  31.03448276,  34.48275862,  37.93103448,\n",
       "        41.37931034,  44.82758621,  48.27586207,  51.72413793,\n",
       "        55.17241379,  58.62068966,  62.06896552,  65.51724138,\n",
       "        68.96551724,  72.4137931 ,  75.86206897,  79.31034483,\n",
       "        82.75862069,  86.20689655,  89.65517241,  93.10344828,\n",
       "        96.55172414, 100.        ])"
      ]
     },
     "execution_count": 41,
     "metadata": {},
     "output_type": "execute_result"
    }
   ],
   "source": [
    "np.linspace(0,100,30)"
   ]
  },
  {
   "cell_type": "markdown",
   "metadata": {
    "colab_type": "text",
    "id": "KqmTGelEWfvc"
   },
   "source": [
    "## Numpy Indexing and Selections\n",
    "\n",
    "Using the below given Matrix, generate the output for the below questions"
   ]
  },
  {
   "cell_type": "code",
   "execution_count": 42,
   "metadata": {
    "colab": {},
    "colab_type": "code",
    "id": "pm3KmD3IWfvd",
    "outputId": "91789817-6799-4999-e2e5-8b58833d492e"
   },
   "outputs": [
    {
     "data": {
      "text/plain": [
       "array([[  1,   2,   3,   4,   5,   6,   7,   8,   9,  10],\n",
       "       [ 11,  12,  13,  14,  15,  16,  17,  18,  19,  20],\n",
       "       [ 21,  22,  23,  24,  25,  26,  27,  28,  29,  30],\n",
       "       [ 31,  32,  33,  34,  35,  36,  37,  38,  39,  40],\n",
       "       [ 41,  42,  43,  44,  45,  46,  47,  48,  49,  50],\n",
       "       [ 51,  52,  53,  54,  55,  56,  57,  58,  59,  60],\n",
       "       [ 61,  62,  63,  64,  65,  66,  67,  68,  69,  70],\n",
       "       [ 71,  72,  73,  74,  75,  76,  77,  78,  79,  80],\n",
       "       [ 81,  82,  83,  84,  85,  86,  87,  88,  89,  90],\n",
       "       [ 91,  92,  93,  94,  95,  96,  97,  98,  99, 100]])"
      ]
     },
     "execution_count": 42,
     "metadata": {},
     "output_type": "execute_result"
    }
   ],
   "source": [
    "simple_matrix = np.arange(1,101).reshape(10,10)\n",
    "simple_matrix"
   ]
  },
  {
   "cell_type": "markdown",
   "metadata": {
    "colab_type": "text",
    "collapsed": true,
    "id": "pHeZcfIeWfvg"
   },
   "source": [
    "#### a) Retrieve the last 2 rows and first 3 column values of the above matrix using index & selection technique"
   ]
  },
  {
   "cell_type": "code",
   "execution_count": 45,
   "metadata": {
    "colab": {},
    "colab_type": "code",
    "id": "fbGjB4__Wfvh",
    "outputId": "16b98af3-1a34-49dd-b1f4-d6953110757d"
   },
   "outputs": [
    {
     "data": {
      "text/plain": [
       "array([[81, 82, 83],\n",
       "       [91, 92, 93]])"
      ]
     },
     "execution_count": 45,
     "metadata": {},
     "output_type": "execute_result"
    }
   ],
   "source": [
    "simple_matrix[8:,:3]"
   ]
  },
  {
   "cell_type": "markdown",
   "metadata": {
    "colab_type": "text",
    "collapsed": true,
    "id": "2wJa4BSaWfvj"
   },
   "source": [
    "#### b) Retrieve the value 55 from the above matrix using index & selection technique"
   ]
  },
  {
   "cell_type": "code",
   "execution_count": 53,
   "metadata": {
    "colab": {},
    "colab_type": "code",
    "id": "AegcurX4Wfvk",
    "outputId": "cee2bcbb-6e7d-4a89-faaf-10ba95dffc14"
   },
   "outputs": [
    {
     "data": {
      "text/plain": [
       "55"
      ]
     },
     "execution_count": 53,
     "metadata": {},
     "output_type": "execute_result"
    }
   ],
   "source": [
    "simple_matrix[5,4]"
   ]
  },
  {
   "cell_type": "markdown",
   "metadata": {
    "colab_type": "text",
    "collapsed": true,
    "id": "wWPhtOkgWfvn"
   },
   "source": [
    "#### c) Retrieve the values from the 3rd column in the above matrix"
   ]
  },
  {
   "cell_type": "code",
   "execution_count": 57,
   "metadata": {
    "colab": {},
    "colab_type": "code",
    "id": "eUNk6QxPWfvo",
    "outputId": "64cd12f5-0af7-4840-e6f5-008efe3f3a16"
   },
   "outputs": [
    {
     "data": {
      "text/plain": [
       "array([ 3, 13, 23, 33, 43, 53, 63, 73, 83, 93])"
      ]
     },
     "execution_count": 57,
     "metadata": {},
     "output_type": "execute_result"
    }
   ],
   "source": [
    "simple_matrix[:,2]"
   ]
  },
  {
   "cell_type": "markdown",
   "metadata": {
    "colab_type": "text",
    "collapsed": true,
    "id": "dfZ_PbMlWfvr"
   },
   "source": [
    "#### d) Retrieve the values from the 4th row in the above matrix"
   ]
  },
  {
   "cell_type": "code",
   "execution_count": 56,
   "metadata": {
    "colab": {},
    "colab_type": "code",
    "id": "-clpnQ8yWfvs",
    "outputId": "000cfe2b-7d05-43fe-e2e0-6777ef1625b9"
   },
   "outputs": [
    {
     "data": {
      "text/plain": [
       "array([31, 32, 33, 34, 35, 36, 37, 38, 39, 40])"
      ]
     },
     "execution_count": 56,
     "metadata": {},
     "output_type": "execute_result"
    }
   ],
   "source": [
    "simple_matrix[3,:]"
   ]
  },
  {
   "cell_type": "markdown",
   "metadata": {
    "colab_type": "text",
    "collapsed": true,
    "id": "t9ua2w55Wfvu"
   },
   "source": [
    "#### e) Retrieve values from the 2nd & 4th rows in the above matrix"
   ]
  },
  {
   "cell_type": "code",
   "execution_count": 58,
   "metadata": {
    "colab": {},
    "colab_type": "code",
    "id": "RVZJNF7sWfvv",
    "outputId": "863789c2-dfdb-458b-8bfe-b76f5dee2c0d"
   },
   "outputs": [
    {
     "data": {
      "text/plain": [
       "array([[11, 12, 13, 14, 15, 16, 17, 18, 19, 20],\n",
       "       [31, 32, 33, 34, 35, 36, 37, 38, 39, 40]])"
      ]
     },
     "execution_count": 58,
     "metadata": {},
     "output_type": "execute_result"
    }
   ],
   "source": [
    "simple_matrix[(1,3),:]"
   ]
  },
  {
   "cell_type": "markdown",
   "metadata": {
    "colab_type": "text",
    "id": "4bwQCCltWfvy"
   },
   "source": [
    "### Calculate the following values for the given matrix"
   ]
  },
  {
   "cell_type": "markdown",
   "metadata": {
    "colab_type": "text",
    "id": "KJie8xeZWfv1"
   },
   "source": [
    "#### a) Calculate sum of all the values in the matrix"
   ]
  },
  {
   "cell_type": "code",
   "execution_count": 59,
   "metadata": {
    "colab": {},
    "colab_type": "code",
    "id": "ItHB9_nuWfv2",
    "outputId": "2abc983b-fb77-4a88-a43f-035b4270f431"
   },
   "outputs": [
    {
     "data": {
      "text/plain": [
       "5050"
      ]
     },
     "execution_count": 59,
     "metadata": {},
     "output_type": "execute_result"
    }
   ],
   "source": [
    "simple_matrix.sum()"
   ]
  },
  {
   "cell_type": "markdown",
   "metadata": {
    "colab_type": "text",
    "id": "4f7xVNwdWfv4"
   },
   "source": [
    "#### b) Calculate standard deviation of all the values in the matrix"
   ]
  },
  {
   "cell_type": "code",
   "execution_count": 60,
   "metadata": {
    "colab": {},
    "colab_type": "code",
    "id": "GXMAuXmEWfv5",
    "outputId": "08f9cc5d-2a35-470b-cbde-1bde15add15f"
   },
   "outputs": [
    {
     "data": {
      "text/plain": [
       "28.86607004772212"
      ]
     },
     "execution_count": 60,
     "metadata": {},
     "output_type": "execute_result"
    }
   ],
   "source": [
    "simple_matrix.std()"
   ]
  },
  {
   "cell_type": "markdown",
   "metadata": {
    "colab_type": "text",
    "id": "w6UG88Z3Wfv7"
   },
   "source": [
    "#### c) Calculate the variance of all values in the matrix"
   ]
  },
  {
   "cell_type": "code",
   "execution_count": 61,
   "metadata": {
    "colab": {},
    "colab_type": "code",
    "id": "mK3Dg9HcWfv8",
    "outputId": "1219ef2e-ef5e-45d1-fd91-53d97d12988e"
   },
   "outputs": [
    {
     "data": {
      "text/plain": [
       "833.25"
      ]
     },
     "execution_count": 61,
     "metadata": {},
     "output_type": "execute_result"
    }
   ],
   "source": [
    "simple_matrix.var()"
   ]
  },
  {
   "cell_type": "markdown",
   "metadata": {
    "colab_type": "text",
    "collapsed": true,
    "id": "XrLeJqpqWfv9"
   },
   "source": [
    "#### d) Calculate the mean of all values in the matrix"
   ]
  },
  {
   "cell_type": "code",
   "execution_count": 62,
   "metadata": {
    "colab": {},
    "colab_type": "code",
    "id": "CkTZoE6sWfv-",
    "outputId": "d0611461-2429-46b3-f7fe-e2fff4cc0c35"
   },
   "outputs": [
    {
     "data": {
      "text/plain": [
       "50.5"
      ]
     },
     "execution_count": 62,
     "metadata": {},
     "output_type": "execute_result"
    }
   ],
   "source": [
    "simple_matrix.mean()"
   ]
  },
  {
   "cell_type": "markdown",
   "metadata": {
    "colab_type": "text",
    "id": "z8KLRmmAWfwA"
   },
   "source": [
    "#### e) Retrieve the largest number from the matrix"
   ]
  },
  {
   "cell_type": "code",
   "execution_count": 63,
   "metadata": {
    "colab": {},
    "colab_type": "code",
    "id": "RdFESOK5WfwA",
    "outputId": "dd25a1fb-56b8-460b-9395-7290f3130f10"
   },
   "outputs": [
    {
     "data": {
      "text/plain": [
       "100"
      ]
     },
     "execution_count": 63,
     "metadata": {},
     "output_type": "execute_result"
    }
   ],
   "source": [
    "simple_matrix.max()"
   ]
  },
  {
   "cell_type": "markdown",
   "metadata": {
    "colab_type": "text",
    "id": "urIyRtI3WfwC"
   },
   "source": [
    "#### f) Retrieve the smallest number from the matrix"
   ]
  },
  {
   "cell_type": "code",
   "execution_count": 72,
   "metadata": {
    "colab": {},
    "colab_type": "code",
    "id": "z35HtXjIWfwC",
    "outputId": "ac462976-127c-44c8-a121-79c9a5f64871"
   },
   "outputs": [
    {
     "data": {
      "text/plain": [
       "1"
      ]
     },
     "execution_count": 72,
     "metadata": {},
     "output_type": "execute_result"
    }
   ],
   "source": [
    "simple_matrix.min()"
   ]
  },
  {
   "cell_type": "markdown",
   "metadata": {
    "colab_type": "text",
    "id": "6y9g6SSaWfwF"
   },
   "source": [
    "### End of Lab Exercise - NumPy"
   ]
  }
 ],
 "metadata": {
  "colab": {
   "name": "Numpy Lab Exercise - Solutions (1).ipynb",
   "provenance": [],
   "version": "0.3.2"
  },
  "kernelspec": {
   "display_name": "Python 3",
   "language": "python",
   "name": "python3"
  },
  "language_info": {
   "codemirror_mode": {
    "name": "ipython",
    "version": 3
   },
   "file_extension": ".py",
   "mimetype": "text/x-python",
   "name": "python",
   "nbconvert_exporter": "python",
   "pygments_lexer": "ipython3",
   "version": "3.7.6"
  }
 },
 "nbformat": 4,
 "nbformat_minor": 1
}
